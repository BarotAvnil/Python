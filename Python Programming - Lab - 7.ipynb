{
 "cells": [
  {
   "cell_type": "markdown",
   "metadata": {},
   "source": [
    "<a href='https://www.darshan.ac.in/'> <img src='https://www.darshan.ac.in/Content/media/DU_Logo.svg' width=\"250\" height=\"300\"/></a>\n",
    "<pre>\n",
    "<center><b><h1>Python Programming - 2301CS404</b></center>\n",
    "<center><b><h1>Lab - 7</b></center>    \n",
    "<center><b><h1>Barot Avnil || 23010101015</b></center>    \n",
    "<pre>"
   ]
  },
  {
   "cell_type": "markdown",
   "metadata": {},
   "source": [
    "# Set & Dictionary"
   ]
  },
  {
   "cell_type": "markdown",
   "metadata": {},
   "source": [
    "### 01) WAP to iterate over a set."
   ]
  },
  {
   "cell_type": "code",
   "execution_count": 1,
   "metadata": {},
   "outputs": [
    {
     "name": "stdout",
     "output_type": "stream",
     "text": [
      "1\n",
      "2\n",
      "3\n",
      "4\n",
      "5\n",
      "6\n",
      "7\n",
      "8\n",
      "9\n"
     ]
    }
   ],
   "source": [
    "s1 = {1,2,3,4,5,6,7,8,9}\n",
    "for i in s1:\n",
    "    print(i)\n"
   ]
  },
  {
   "cell_type": "markdown",
   "metadata": {},
   "source": [
    "### 02) WAP to convert set into list, string and tuple."
   ]
  },
  {
   "cell_type": "code",
   "execution_count": 10,
   "metadata": {},
   "outputs": [
    {
     "name": "stdout",
     "output_type": "stream",
     "text": [
      "List :: [1, 2, 3, 4, 5, 6, 7, 8, 9, 'a']\n",
      "String :: {1, 2, 3, 4, 5, 6, 7, 8, 9, 'a'}\n",
      "Tuple :: (1, 2, 3, 4, 5, 6, 7, 8, 9, 'a')\n"
     ]
    }
   ],
   "source": [
    "s1 = {1,2,3,4,5,6,7,8,9,'a'}\n",
    "print(f'List :: {list(s1)}')\n",
    "print(f'String :: {str(s1)}')\n",
    "print(f'Tuple :: {tuple(s1)}')"
   ]
  },
  {
   "cell_type": "markdown",
   "metadata": {},
   "source": [
    "### 03) WAP to find Maximum and Minimum from a set."
   ]
  },
  {
   "cell_type": "code",
   "execution_count": 4,
   "metadata": {},
   "outputs": [
    {
     "name": "stdout",
     "output_type": "stream",
     "text": [
      "Maximum :: 9\n",
      "Minimum :: 1\n"
     ]
    }
   ],
   "source": [
    "s1 = {1,2,3,4,5,6,7,8,9}\n",
    "print(f'Maximum :: {max(s1)}')\n",
    "print(f'Minimum :: {min(s1)}')"
   ]
  },
  {
   "cell_type": "markdown",
   "metadata": {},
   "source": [
    "### 04) WAP to perform union of two sets."
   ]
  },
  {
   "cell_type": "code",
   "execution_count": 7,
   "metadata": {},
   "outputs": [
    {
     "name": "stdout",
     "output_type": "stream",
     "text": [
      "Union :: {1, 2, 3, 4, 5, 6, 7, 8, 9, 33, 66, 99, 11, 44, 77, 22, 55, 88}\n"
     ]
    }
   ],
   "source": [
    "s1 = {1,2,3,4,5,6,7,8,9}\n",
    "s2 = {11,22,33,44,55,66,77,88,99}\n",
    "print(f'Union :: {s1|s2}')"
   ]
  },
  {
   "cell_type": "markdown",
   "metadata": {},
   "source": [
    "### 05) WAP to check if two lists have at-least one element common."
   ]
  },
  {
   "cell_type": "code",
   "execution_count": 16,
   "metadata": {},
   "outputs": [
    {
     "name": "stdout",
     "output_type": "stream",
     "text": [
      "Common :: {99}\n"
     ]
    }
   ],
   "source": [
    "l1 = [1,2,3,4,5,6,7,8,99]\n",
    "l2 = [11,22,33,44,55,66,77,88,99]\n",
    "# common = list[set(l1) & set(l2)]\n",
    "common = [x for x in l1 if x in l2]\n",
    "print(f'Common :: {set(common)}')"
   ]
  },
  {
   "cell_type": "markdown",
   "metadata": {},
   "source": [
    "### 06) WAP to remove duplicates from list."
   ]
  },
  {
   "cell_type": "code",
   "execution_count": 17,
   "metadata": {},
   "outputs": [
    {
     "name": "stdout",
     "output_type": "stream",
     "text": [
      "Remove Duplicates :: {1, 2, 3, 4, 5, 6, 7, 8, 99}\n"
     ]
    }
   ],
   "source": [
    "l1 = [1,2,3,4,5,6,7,8,99,1,2,3,99]\n",
    "print(f'Remove Duplicates :: {set(l1)}')"
   ]
  },
  {
   "cell_type": "markdown",
   "metadata": {},
   "source": [
    "### 07) WAP to find unique words in the given string."
   ]
  },
  {
   "cell_type": "code",
   "execution_count": 41,
   "metadata": {},
   "outputs": [
    {
     "name": "stdout",
     "output_type": "stream",
     "text": [
      "Unique Words :: {'banana', 'cherry', 'orange', 'apple'}\n"
     ]
    }
   ],
   "source": [
    "str = \"apple banana orange cherry apple banana\"\n",
    "words = str.split()\n",
    "str = set(words)\n",
    "print(f'Unique Words :: {str}')\n"
   ]
  },
  {
   "cell_type": "markdown",
   "metadata": {},
   "source": [
    "### 08) WAP to remove common elements of set A & B from set A."
   ]
  },
  {
   "cell_type": "code",
   "execution_count": 42,
   "metadata": {},
   "outputs": [
    {
     "name": "stdout",
     "output_type": "stream",
     "text": [
      "Remove common elements :: {1, 2, 3, 4, 5, 6, 7, 8}\n"
     ]
    }
   ],
   "source": [
    "s1 = {1,2,3,4,5,6,7,8,99}\n",
    "s2 = {11,22,33,44,55,66,77,88,99}\n",
    "print(f'Remove common elements :: {set(s1 - s2)}')"
   ]
  },
  {
   "cell_type": "markdown",
   "metadata": {},
   "source": [
    "### 09) WAP to check whether two given strings are anagram or not using set."
   ]
  },
  {
   "cell_type": "code",
   "execution_count": 45,
   "metadata": {},
   "outputs": [
    {
     "name": "stdout",
     "output_type": "stream",
     "text": [
      "Anagram\n"
     ]
    }
   ],
   "source": [
    "s1 = 'silent'\n",
    "s2 = 'listen'\n",
    "\n",
    "if set(s1) == set(s2) and len(s1) == len(s2):\n",
    "    print('Anagram')\n",
    "else:\n",
    "    print('Not Anagram')\n",
    "\n"
   ]
  },
  {
   "cell_type": "markdown",
   "metadata": {},
   "source": [
    "### 10) WAP to find common elements in three lists using set."
   ]
  },
  {
   "cell_type": "code",
   "execution_count": 47,
   "metadata": {},
   "outputs": [
    {
     "name": "stdout",
     "output_type": "stream",
     "text": [
      "Common Elements :: {1, 4}\n"
     ]
    }
   ],
   "source": [
    "l1 = [1,2,3,4,5]\n",
    "l2 = [4,6,7,8,9]\n",
    "l3 = [1,4,6,8,9]\n",
    "print(f'Common Elements :: {(set(l1)&set(l1)&set(l3))}')"
   ]
  },
  {
   "cell_type": "markdown",
   "metadata": {},
   "source": [
    "### 11) WAP to count number of vowels in given string using set."
   ]
  },
  {
   "cell_type": "code",
   "execution_count": 66,
   "metadata": {},
   "outputs": [
    {
     "name": "stdout",
     "output_type": "stream",
     "text": [
      "Number of Vowels :: 2\n"
     ]
    }
   ],
   "source": [
    "s1 = 'avnil'\n",
    "count = 0\n",
    "for i in s1:\n",
    "    if i.lower() in {'a', 'e', 'i', 'o' ,'u'}:\n",
    "        count+=1\n",
    "if count > 0:\n",
    "    print(f'Number of Vowels :: {count}')\n",
    "else:\n",
    "    print('No vowel')\n"
   ]
  },
  {
   "cell_type": "markdown",
   "metadata": {},
   "source": [
    "### 12) WAP to check if a given string is binary string or not."
   ]
  },
  {
   "cell_type": "code",
   "execution_count": null,
   "metadata": {},
   "outputs": [],
   "source": []
  },
  {
   "cell_type": "markdown",
   "metadata": {},
   "source": [
    "### 13) WAP to sort dictionary by key or value."
   ]
  },
  {
   "cell_type": "code",
   "execution_count": null,
   "metadata": {},
   "outputs": [],
   "source": []
  },
  {
   "cell_type": "markdown",
   "metadata": {},
   "source": [
    "### 14) WAP to find the sum of all items (values) in a dictionary given by user. (Assume: values are numeric)"
   ]
  },
  {
   "cell_type": "code",
   "execution_count": null,
   "metadata": {},
   "outputs": [],
   "source": []
  },
  {
   "cell_type": "markdown",
   "metadata": {},
   "source": [
    "### 15) WAP to handle missing keys in dictionaries.\n",
    "#### Example : Given, dict1 = {'a': 5, 'c': 8, 'e': 2} \n",
    "#### if you look for key = 'd', the message given should be 'Key Not Found', otherwise print the value of 'd' in dict1."
   ]
  },
  {
   "cell_type": "code",
   "execution_count": null,
   "metadata": {},
   "outputs": [],
   "source": []
  }
 ],
 "metadata": {
  "kernelspec": {
   "display_name": "Python 3 (ipykernel)",
   "language": "python",
   "name": "python3"
  },
  "language_info": {
   "codemirror_mode": {
    "name": "ipython",
    "version": 3
   },
   "file_extension": ".py",
   "mimetype": "text/x-python",
   "name": "python",
   "nbconvert_exporter": "python",
   "pygments_lexer": "ipython3",
   "version": "3.10.9"
  }
 },
 "nbformat": 4,
 "nbformat_minor": 4
}
