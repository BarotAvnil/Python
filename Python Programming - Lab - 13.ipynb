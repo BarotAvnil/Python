{
 "cells": [
  {
   "cell_type": "markdown",
   "metadata": {},
   "source": [
    "<a href='https://www.darshan.ac.in/'> <img src='https://www.darshan.ac.in/Content/media/DU_Logo.svg' width=\"250\" height=\"300\"/></a>\n",
    "<pre>\n",
    "<center><b><h1>Python Programming - 2301CS404</b></center>\n",
    "<center><b><h1>Lab - 13</b></center> \n",
    "<center><b><h1>Avnil Barot || 23010101015</b></center>\n",
    "<pre>"
   ]
  },
  {
   "cell_type": "markdown",
   "metadata": {},
   "source": [
    "# OOP"
   ]
  },
  {
   "cell_type": "markdown",
   "metadata": {},
   "source": [
    "### 01) Write a Program to create a class by name Students, and initialize attributes like name, age, and grade while creating an object."
   ]
  },
  {
   "cell_type": "code",
   "execution_count": null,
   "metadata": {},
   "outputs": [],
   "source": [
    "class Student:\n",
    "    def __init__(self, name, age, grade):\n",
    "        self.name = name\n",
    "        self.age = age\n",
    "        self.grade = grade\n",
    "    \n",
    "    def display_info(self):\n",
    "        print(f\"Name: {self.name}\")\n",
    "        print(f\"Age: {self.age}\")\n",
    "        print(f\"Grade: {self.grade}\")\n",
    "\n",
    "student1 = Student(\"AB\", 17, \"12th Grade\")\n",
    "student1.display_info()"
   ]
  },
  {
   "cell_type": "markdown",
   "metadata": {},
   "source": [
    "### 02) Create a class named Bank_Account with Account_No, User_Name, Email,Account_Type and Account_Balance data members. Also create a method GetAccountDetails() and DisplayAccountDetails(). Create main method to demonstrate the Bank_Account class."
   ]
  },
  {
   "cell_type": "code",
   "execution_count": 4,
   "metadata": {},
   "outputs": [
    {
     "name": "stdout",
     "output_type": "stream",
     "text": [
      "Enter Account Number :23010101015\n",
      "Enter Username :AB\n",
      "Enter Email :ab@gmail.com\n",
      "Enter Account type :Savings\n",
      "Enter Account Balance5093450\n",
      "----------------Account Details----------------\n",
      "Account Number :: 23010101015\n",
      "User Name :: AB\n",
      "Email :: ab@gmail.com\n",
      "Account Type :: Savings\n",
      "Account Balance :: 5093450\n"
     ]
    }
   ],
   "source": [
    "class Bank_Account:\n",
    "    def __init__(self):\n",
    "        pass\n",
    "    def getAccountDetails(self):\n",
    "        self.Account_No = int(input(\"Enter Account Number :\"))\n",
    "        self.User_Name = input(\"Enter Username :\")\n",
    "        self.Email = input(\"Enter Email :\")\n",
    "        self.Account_type = input(\"Enter Account type :\")\n",
    "        self.Account_Balance = int(input(\"Enter Account Balance\"))\n",
    "    def displayAccountDetails(self):\n",
    "        print(\"----------------Account Details----------------\")\n",
    "        print(f\"Account Number :: {self.Account_No}\")\n",
    "        print(f\"User Name :: {self.User_Name}\")\n",
    "        print(f\"Email :: {self.Email}\")\n",
    "        print(f\"Account Type :: {self.Account_type}\")\n",
    "        print(f\"Account Balance :: {self.Account_Balance}\")\n",
    "obj = Bank_Account()\n",
    "obj.getAccountDetails()\n",
    "obj.displayAccountDetails()"
   ]
  },
  {
   "cell_type": "markdown",
   "metadata": {},
   "source": [
    "### 03) WAP to create Circle class with area and perimeter function to find area and perimeter of circle."
   ]
  },
  {
   "cell_type": "code",
   "execution_count": 6,
   "metadata": {},
   "outputs": [
    {
     "name": "stdout",
     "output_type": "stream",
     "text": [
      "Area of the circle: 78.54\n",
      "Perimeter (Circumference) of the circle: 31.42\n"
     ]
    }
   ],
   "source": [
    "import math\n",
    "\n",
    "class Circle:\n",
    "    def __init__(self, radius):\n",
    "        self.radius = radius\n",
    "\n",
    "    def area(self):\n",
    "        return math.pi * (self.radius ** 2)\n",
    "\n",
    "    def perimeter(self):\n",
    "        return 2 * math.pi * self.radius\n",
    "\n",
    "circle = Circle(5)\n",
    "area = circle.area()\n",
    "print(f\"Area of the circle: {area:.2f}\")\n",
    "perimeter = circle.perimeter()\n",
    "print(f\"Perimeter (Circumference) of the circle: {perimeter:.2f}\")"
   ]
  },
  {
   "cell_type": "markdown",
   "metadata": {},
   "source": [
    "### 04) Create a class for employees that includes attributes such as name, age, salary, and methods to update and display employee information."
   ]
  },
  {
   "cell_type": "code",
   "execution_count": 15,
   "metadata": {},
   "outputs": [
    {
     "name": "stdout",
     "output_type": "stream",
     "text": [
      "-----------------------Employee Information-----------------------\n",
      "Name : AB\n",
      "Age : 30\n",
      "Salary : 50000\n",
      "-----------------------Employee Information-----------------------\n",
      "Name : CD\n",
      "Age : 32\n",
      "Salary : 55000\n"
     ]
    }
   ],
   "source": [
    "class Employee:\n",
    "    def __init__(self, name, age, salary):\n",
    "        self.name = name\n",
    "        self.age = age\n",
    "        self.salary = salary\n",
    "\n",
    "    def update_info(self, name=None, age=None, salary=None):\n",
    "        if name:\n",
    "            self.name = name\n",
    "        if age:\n",
    "            self.age = age\n",
    "        if salary:\n",
    "            self.salary = salary\n",
    "\n",
    "    def display_info(self):\n",
    "        print(\"-----------------------Employee Information-----------------------\")\n",
    "        print(f\"Name : {self.name}\")\n",
    "        print(f\"Age : {self.age}\")\n",
    "        print(f\"Salary : {self.salary}\")\n",
    "\n",
    "emp = Employee(\"AB\", 30, 50000)\n",
    "emp.display_info()\n",
    "emp.update_info(name=\"CD\", age=32, salary=55000)\n",
    "emp.display_info()"
   ]
  },
  {
   "cell_type": "markdown",
   "metadata": {},
   "source": [
    "### 05) Create a bank account class with methods to deposit, withdraw, and check balance."
   ]
  },
  {
   "cell_type": "code",
   "execution_count": 20,
   "metadata": {},
   "outputs": [
    {
     "name": "stdout",
     "output_type": "stream",
     "text": [
      "Deposited ₹10. Current balance: ₹15010\n",
      "Withdraw ₹15000. Current balance: ₹10\n",
      "Current balance: ₹10\n",
      "Withdraw ₹10. Current balance: ₹0\n"
     ]
    }
   ],
   "source": [
    "class BankAccount:\n",
    "    def __init__(self, account_number, account_holder, balance=0):\n",
    "        self.account_number = account_number\n",
    "        self.account_holder = account_holder\n",
    "        self.balance = balance\n",
    "\n",
    "    def deposit(self, amount):\n",
    "        if amount > 0:\n",
    "            self.balance += amount\n",
    "            print(f\"Deposited ₹{amount}. Current balance: ₹{self.balance}\")\n",
    "        else:\n",
    "            print(\"Deposit amount must be positive.\")\n",
    "\n",
    "    def withdraw(self, amount):\n",
    "        if amount >= 0:\n",
    "            if amount <= self.balance:\n",
    "                self.balance -= amount\n",
    "                print(f\"Withdraw ₹{amount}. Current balance: ₹{self.balance}\")\n",
    "            else:\n",
    "                print(\"Insufficient funds.\")\n",
    "        else:\n",
    "            print(\"Withdrawal amount must be positive.\")\n",
    "\n",
    "    def check_balance(self):\n",
    "        print(f\"Current balance: ₹{self.balance}\")\n",
    "\n",
    "account = BankAccount(123456, \"AB\", 15000)\n",
    "account.deposit(10)\n",
    "account.withdraw(15000)\n",
    "account.check_balance()\n",
    "account.withdraw(10)"
   ]
  },
  {
   "cell_type": "markdown",
   "metadata": {},
   "source": [
    "### 06) Create a class for managing inventory that includes attributes such as item name, price, quantity, and methods to add, remove, and update items."
   ]
  },
  {
   "cell_type": "code",
   "execution_count": 23,
   "metadata": {},
   "outputs": [
    {
     "name": "stdout",
     "output_type": "stream",
     "text": [
      "Added 10 Laptop(s) to inventory.\n",
      "Added 15 Phone(s) to inventory.\n",
      "Inventory Details:\n",
      "Laptop: Price - ₹1200, Quantity - 10\n",
      "Phone: Price - ₹800, Quantity - 15\n",
      "Removed 5 Laptop(s) from inventory.\n",
      "Updated price of Phone to ₹850.\n",
      "Inventory Details:\n",
      "Laptop: Price - ₹1200, Quantity - 5\n",
      "Phone: Price - ₹850, Quantity - 15\n",
      "Not enough Laptop in inventory to remove.\n",
      "Tablet not found in inventory.\n"
     ]
    }
   ],
   "source": [
    "class Inventory:\n",
    "    def __init__(self):\n",
    "        self.items = {}\n",
    "\n",
    "    def add_item(self, item_name, price, quantity):\n",
    "        if item_name in self.items:\n",
    "            self.items[item_name]['quantity'] += quantity\n",
    "        else:\n",
    "            self.items[item_name] = {'price': price, 'quantity': quantity}\n",
    "        print(f\"Added {quantity} {item_name}(s) to inventory.\")\n",
    "\n",
    "    def remove_item(self, item_name, quantity):\n",
    "        if item_name in self.items:\n",
    "            if self.items[item_name]['quantity'] >= quantity:\n",
    "                self.items[item_name]['quantity'] -= quantity\n",
    "                print(f\"Removed {quantity} {item_name}(s) from inventory.\")\n",
    "            else:\n",
    "                print(f\"Not enough {item_name} in inventory to remove.\")\n",
    "        else:\n",
    "            print(f\"{item_name} not found in inventory.\")\n",
    "\n",
    "    def update_price(self, item_name, new_price):\n",
    "        if item_name in self.items:\n",
    "            self.items[item_name]['price'] = new_price\n",
    "            print(f\"Updated price of {item_name} to ₹{new_price}.\")\n",
    "        else:\n",
    "            print(f\"{item_name} not found in inventory.\")\n",
    "\n",
    "    def display_inventory(self):\n",
    "        if not self.items:\n",
    "            print(\"Inventory is empty.\")\n",
    "        else:\n",
    "            print(\"Inventory Details:\")\n",
    "            for item_name, details in self.items.items():\n",
    "                print(f\"{item_name}: Price - ₹{details['price']}, Quantity - {details['quantity']}\")\n",
    "\n",
    "inventory = Inventory()\n",
    "inventory.add_item(\"Laptop\", 1200, 10)\n",
    "inventory.add_item(\"Phone\", 800, 15)\n",
    "inventory.display_inventory()\n",
    "inventory.remove_item(\"Laptop\", 5)\n",
    "inventory.update_price(\"Phone\", 850)\n",
    "inventory.display_inventory()\n",
    "inventory.remove_item(\"Laptop\", 6)\n",
    "inventory.update_price(\"Tablet\", 300)"
   ]
  },
  {
   "cell_type": "markdown",
   "metadata": {},
   "source": [
    "### 07) Create a Class with instance attributes of your choice."
   ]
  },
  {
   "cell_type": "code",
   "execution_count": null,
   "metadata": {},
   "outputs": [],
   "source": [
    "class Car:\n",
    "    def __init__(self, make, model, year, color):\n",
    "        self.make = make\n",
    "        self.model = model\n",
    "        self.year = year\n",
    "        self.color = color\n",
    "\n",
    "    def display_car_info(self):\n",
    "        print(f\"Car Information:\")\n",
    "        print(f\"Make: {self.make}\")\n",
    "        print(f\"Model: {self.model}\")\n",
    "        print(f\"Year: {self.year}\")\n",
    "        print(f\"Color: {self.color}\")\n",
    "\n",
    "car1 = Car(\"Toyota\", \"Corolla\", 2021, \"Blue\")\n",
    "car1.display_car_info()\n",
    "car2 = Car(\"Honda\", \"Civic\", 2020, \"Red\")\n",
    "car2.display_car_info()"
   ]
  },
  {
   "cell_type": "markdown",
   "metadata": {},
   "source": [
    "### 08) Create one class student_kit\n",
    "#### Within the student_kit class create one class attribute principal name ( Mr ABC )\n",
    "#### Create one attendance method and take input as number of days.\n",
    "#### While creating student take input their name .\n",
    "#### Create one certificate for each student by taking input of number of days present in class."
   ]
  },
  {
   "cell_type": "code",
   "execution_count": 25,
   "metadata": {},
   "outputs": [
    {
     "name": "stdout",
     "output_type": "stream",
     "text": [
      "Enter the student's name: AB\n",
      "Enter the number of days present in class: 100\n",
      "Attendance recorded: 100 days\n",
      "Certificate of Attendance\n",
      "\n",
      "Principal: Mr ABC\n",
      "Student: AB\n",
      "Days Present: 100\n",
      "Status: Passed (Attendance is sufficient)\n"
     ]
    }
   ],
   "source": [
    "class StudentKit:\n",
    "    principal = \"Mr ABC\"\n",
    "    \n",
    "    def __init__(self, student_name):\n",
    "        self.student_name = student_name\n",
    "        self.attendance = 0\n",
    "\n",
    "    def record_attendance(self, days_present):\n",
    "        self.attendance = days_present\n",
    "        print(f\"Attendance recorded: {self.attendance} days\")\n",
    "\n",
    "    def generate_certificate(self):\n",
    "        if self.attendance >= 75:\n",
    "            print(f\"Certificate of Attendance\\n\")\n",
    "            print(f\"Principal: {StudentKit.principal}\")\n",
    "            print(f\"Student: {self.student_name}\")\n",
    "            print(f\"Days Present: {self.attendance}\")\n",
    "            print(f\"Status: Passed (Attendance is sufficient)\")\n",
    "        else:\n",
    "            print(f\"Certificate of Attendance\\n\")\n",
    "            print(f\"Principal: {StudentKit.principal}\")\n",
    "            print(f\"Student: {self.student_name}\")\n",
    "            print(f\"Days Present: {self.attendance}\")\n",
    "            print(f\"Status: Failed (Attendance is insufficient)\")\n",
    "\n",
    "student_name = input(\"Enter the student's name: \")\n",
    "student = StudentKit(student_name)\n",
    "days_present = int(input(\"Enter the number of days present in class: \"))\n",
    "student.record_attendance(days_present)\n",
    "student.generate_certificate()"
   ]
  },
  {
   "cell_type": "markdown",
   "metadata": {},
   "source": [
    "### 09) Define Time class with hour and minute as data member. Also define addition method to add two time objects."
   ]
  },
  {
   "cell_type": "code",
   "execution_count": null,
   "metadata": {},
   "outputs": [],
   "source": [
    "class Time:\n",
    "    def __init__(self, hour=0, minute=0):\n",
    "        self.hour = hour\n",
    "        self.minute = minute\n",
    "\n",
    "    def add_time(self, other):\n",
    "        total_minutes = (self.hour * 60 + self.minute) + (other.hour * 60 + other.minute)\n",
    "        total_hour = total_minutes // 60\n",
    "        total_minute = total_minutes % 60\n",
    "        return Time(total_hour, total_minute)\n",
    "    \n",
    "    def display_time(self):\n",
    "        print(f\"{self.hour} hour(s) and {self.minute} minute(s)\")\n",
    "\n",
    "time1 = Time(2, 45)\n",
    "time2 = Time(3, 30)\n",
    "total_time = time1.add_time(time2)\n",
    "print(\"Time 1:\")\n",
    "time1.display_time()\n",
    "print(\"Time 2:\")\n",
    "time2.display_time()\n",
    "print(\"Total Time after adding:\")\n",
    "total_time.display_time()"
   ]
  }
 ],
 "metadata": {
  "kernelspec": {
   "display_name": "Python 3 (ipykernel)",
   "language": "python",
   "name": "python3"
  },
  "language_info": {
   "codemirror_mode": {
    "name": "ipython",
    "version": 3
   },
   "file_extension": ".py",
   "mimetype": "text/x-python",
   "name": "python",
   "nbconvert_exporter": "python",
   "pygments_lexer": "ipython3",
   "version": "3.10.9"
  }
 },
 "nbformat": 4,
 "nbformat_minor": 4
}
