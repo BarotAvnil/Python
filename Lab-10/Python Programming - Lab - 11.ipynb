{
 "cells": [
  {
   "attachments": {},
   "cell_type": "markdown",
   "metadata": {},
   "source": [
    "<a href='https://www.darshan.ac.in/'> <img src='https://www.darshan.ac.in/Content/media/DU_Logo.svg' width=\"250\" height=\"300\"/></a>\n",
    "<pre>\n",
    "<center><b><h1>Python Programming - 2301CS404</b></center>\n",
    "<center><b><h1>Lab - 11</b></center>\n",
    "<center><b><h1>Avnil Barot || 23010101015</b></center>\n",
    "<pre>"
   ]
  },
  {
   "cell_type": "markdown",
   "metadata": {},
   "source": [
    "# Modules"
   ]
  },
  {
   "cell_type": "markdown",
   "metadata": {},
   "source": [
    "### 01) WAP to create Calculator module which defines functions like add, sub,mul and div. \n",
    "### Create another .py file that uses the functions available in Calculator module."
   ]
  },
  {
   "cell_type": "code",
   "execution_count": 16,
   "metadata": {},
   "outputs": [
    {
     "name": "stdout",
     "output_type": "stream",
     "text": [
      "7\n",
      "10\n",
      "5.0\n",
      "3\n"
     ]
    }
   ],
   "source": [
    "from calc import add,mul,div,sub\n",
    "print(add(5,2))\n",
    "print(mul(5,2))\n",
    "print(div(10,2))\n",
    "print(sub(5,2))\n",
    "\n"
   ]
  },
  {
   "cell_type": "markdown",
   "metadata": {},
   "source": [
    "### 02) WAP to pick a random character from a given String."
   ]
  },
  {
   "cell_type": "code",
   "execution_count": 18,
   "metadata": {},
   "outputs": [
    {
     "name": "stdout",
     "output_type": "stream",
     "text": [
      "l\n"
     ]
    }
   ],
   "source": [
    "import random\n",
    "a = 'Hello World'\n",
    "print(random.choice(a))"
   ]
  },
  {
   "cell_type": "markdown",
   "metadata": {},
   "source": [
    "### 03) WAP to pick a random element from a given list."
   ]
  },
  {
   "cell_type": "code",
   "execution_count": 20,
   "metadata": {},
   "outputs": [
    {
     "name": "stdout",
     "output_type": "stream",
     "text": [
      "8\n"
     ]
    }
   ],
   "source": [
    "l1 = [1,2,3,4,5,6,7,8,9]\n",
    "print(random.choice(l1))"
   ]
  },
  {
   "cell_type": "markdown",
   "metadata": {},
   "source": [
    "### 04) WAP to roll a dice in such a way that every time you get the same number."
   ]
  },
  {
   "cell_type": "code",
   "execution_count": 27,
   "metadata": {},
   "outputs": [
    {
     "name": "stdout",
     "output_type": "stream",
     "text": [
      "2\n"
     ]
    }
   ],
   "source": [
    "import random\n",
    "random.seed(1)\n",
    "def roll_dice():\n",
    "    return random.randint(1,6)\n",
    "print(roll_dice())"
   ]
  },
  {
   "cell_type": "markdown",
   "metadata": {},
   "source": [
    "### 05) WAP to generate 3 random integers between 100 and 999 which is divisible by 5."
   ]
  },
  {
   "cell_type": "code",
   "execution_count": 34,
   "metadata": {},
   "outputs": [
    {
     "name": "stdout",
     "output_type": "stream",
     "text": [
      "[425, 765, 490]\n"
     ]
    }
   ],
   "source": [
    "import random\n",
    "\n",
    "def get_random_integer():\n",
    "    count = 0\n",
    "    l1 = []\n",
    "    while count != 3:\n",
    "        random_number = random.randint(100, 999)\n",
    "        \n",
    "        if random_number % 5 == 0:\n",
    "            l1.append(random_number)\n",
    "            count += 1\n",
    "            \n",
    "    return l1\n",
    "\n",
    "print(get_random_integer())"
   ]
  },
  {
   "cell_type": "markdown",
   "metadata": {},
   "source": [
    "### 06) WAP to generate 100 random lottery tickets and pick two lucky tickets from it and announce them as Winner and Runner up respectively."
   ]
  },
  {
   "cell_type": "code",
   "execution_count": 40,
   "metadata": {},
   "outputs": [
    {
     "name": "stdout",
     "output_type": "stream",
     "text": [
      "Winner: Ticket 273508\n",
      "Runner-up: Ticket 961862\n"
     ]
    }
   ],
   "source": [
    "import random\n",
    "\n",
    "tickets = [''.join(random.choices('0123456789', k = 6)) for _ in range(100)]\n",
    "\n",
    "winner = random.choice(tickets)\n",
    "tickets.remove(winner)\n",
    "runner_up = random.choice(tickets)\n",
    "\n",
    "print(f\"Winner: Ticket {winner}\")\n",
    "print(f\"Runner-up: Ticket {runner_up}\")"
   ]
  },
  {
   "cell_type": "markdown",
   "metadata": {},
   "source": [
    "### 07) WAP to print current date and time in Python."
   ]
  },
  {
   "cell_type": "code",
   "execution_count": 42,
   "metadata": {},
   "outputs": [
    {
     "name": "stdout",
     "output_type": "stream",
     "text": [
      "2025-02-12 12:53:56.333223\n"
     ]
    }
   ],
   "source": [
    "import datetime\n",
    "\n",
    "current_time = datetime.datetime.now()\n",
    "\n",
    "print(current_time)"
   ]
  },
  {
   "cell_type": "markdown",
   "metadata": {},
   "source": [
    "### 08) Subtract a week (7 days) from a given date in Python."
   ]
  },
  {
   "cell_type": "code",
   "execution_count": 44,
   "metadata": {},
   "outputs": [
    {
     "name": "stdout",
     "output_type": "stream",
     "text": [
      "Date after subtracting a week: 2025-02-05 12:56:01.170802\n"
     ]
    }
   ],
   "source": [
    "import datetime\n",
    "\n",
    "new_date = datetime.datetime.now() - datetime.timedelta(weeks = 1)\n",
    "\n",
    "print(f\"Date after subtracting a week: {new_date}\")"
   ]
  },
  {
   "cell_type": "markdown",
   "metadata": {},
   "source": [
    "### 09) WAP to Calculate number of days between two given dates."
   ]
  },
  {
   "cell_type": "code",
   "execution_count": 48,
   "metadata": {},
   "outputs": [
    {
     "name": "stdout",
     "output_type": "stream",
     "text": [
      "6 days, 0:00:00\n"
     ]
    }
   ],
   "source": [
    "import datetime\n",
    "\n",
    "start_date = datetime.date(2025, 2, 5)\n",
    "end_date = datetime.date(2025, 2, 12)\n",
    "\n",
    "no_of_days = abs(start_date - end_date)\n",
    "\n",
    "print(no_of_days)"
   ]
  },
  {
   "cell_type": "markdown",
   "metadata": {},
   "source": [
    "### 10) WAP to Find the day of the week of a given date.(i.e. wether it is sunday/monday/tuesday/etc.)"
   ]
  },
  {
   "cell_type": "code",
   "execution_count": 52,
   "metadata": {},
   "outputs": [
    {
     "name": "stdout",
     "output_type": "stream",
     "text": [
      "Day Name: Wednesday\n"
     ]
    }
   ],
   "source": [
    "import datetime\n",
    "\n",
    "given_date = datetime.date(2025, 2, 12) \n",
    "\n",
    "day_name = given_date.strftime(\"%A\")\n",
    "\n",
    "print(\"Day Name:\", day_name)"
   ]
  },
  {
   "cell_type": "markdown",
   "metadata": {},
   "source": [
    "### 11) WAP to demonstrate the use of date time module."
   ]
  },
  {
   "cell_type": "code",
   "execution_count": 54,
   "metadata": {},
   "outputs": [
    {
     "name": "stdout",
     "output_type": "stream",
     "text": [
      "2025-02-12 12:58:03.421566\n"
     ]
    }
   ],
   "source": [
    "import datetime\n",
    "\n",
    "print(datetime.datetime.now())"
   ]
  },
  {
   "cell_type": "markdown",
   "metadata": {},
   "source": [
    "### 12) WAP to demonstrate the use of the math module."
   ]
  },
  {
   "cell_type": "code",
   "execution_count": 58,
   "metadata": {},
   "outputs": [
    {
     "name": "stdout",
     "output_type": "stream",
     "text": [
      "25.0\n",
      "2\n",
      "5.0\n",
      "120\n",
      "2.302585092994046\n",
      "3.141592653589793\n",
      "2.718281828459045\n",
      "1.633123935319537e+16\n",
      "1.0\n",
      "6.123233995736766e-17\n",
      "4\n",
      "3\n",
      "3.7\n",
      "1.0\n",
      "3\n",
      "15.0\n",
      "120\n",
      "6\n",
      "36\n",
      "20\n",
      "6\n",
      "10\n",
      "3\n",
      "15.0\n",
      "120\n",
      "36\n"
     ]
    }
   ],
   "source": [
    "import math\n",
    "print(math.pow(5,2))\n",
    "print(math.gcd(2,8))\n",
    "print(math.sqrt(25))\n",
    "print(math.factorial(5))\n",
    "print(math.log(10))\n",
    "print(math.pi)\n",
    "print(math.e)\n",
    "print(math.tan(math.pi/2))\n",
    "print(math.sin(math.pi/2))\n",
    "print(math.cos(math.pi/2))\n",
    "print(math.ceil(3.7))\n",
    "print(math.floor(3.7))\n",
    "print(math.fabs(-3.7))\n",
    "print(math.fmod(10,3))\n",
    "print(math.trunc(3.7))\n",
    "print(math.fsum([1,2,3,4,5]))\n",
    "print(math.prod([1,2,3,4,5]))\n",
    "print(math.gcd(12,18))\n",
    "print(math.lcm(12,18))\n",
    "print(math.perm(5,2))\n",
    "print(math.gcd(12,18))\n",
    "print(math.comb(5,2))\n",
    "print(math.trunc(3.7))\n",
    "print(math.fsum([1,2,3,4,5]))\n",
    "print(math.prod([1,2,3,4,5]))\n",
    "print(math.lcm(12,18))"
   ]
  }
 ],
 "metadata": {
  "kernelspec": {
   "display_name": "Python 3 (ipykernel)",
   "language": "python",
   "name": "python3"
  },
  "language_info": {
   "codemirror_mode": {
    "name": "ipython",
    "version": 3
   },
   "file_extension": ".py",
   "mimetype": "text/x-python",
   "name": "python",
   "nbconvert_exporter": "python",
   "pygments_lexer": "ipython3",
   "version": "3.12.7"
  }
 },
 "nbformat": 4,
 "nbformat_minor": 4
}
