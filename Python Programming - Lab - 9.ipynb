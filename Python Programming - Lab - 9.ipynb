{
 "cells": [
  {
   "cell_type": "markdown",
   "metadata": {},
   "source": [
    "<a href='https://www.darshan.ac.in/'> <img src='https://www.darshan.ac.in/Content/media/DU_Logo.svg' width=\"250\" height=\"300\"/></a>\n",
    "<pre>\n",
    "<center><b><h1>Python Programming - 2301CS404</b></center>\n",
    "<center><b><h1>Lab - 9</b></center>    \n",
    "<center><b><h1>Barot Avnil | 23010101015</b></center>    \n",
    "<pre>"
   ]
  },
  {
   "cell_type": "markdown",
   "metadata": {},
   "source": [
    "# File I/O"
   ]
  },
  {
   "cell_type": "markdown",
   "metadata": {},
   "source": [
    "### 01) WAP to read and display the contents of a text file. (also try to open the file in some other directory) \n",
    "#### - in the form of a string\n",
    "#### - line by line\n",
    "#### - in the form of a list"
   ]
  },
  {
   "cell_type": "code",
   "execution_count": 24,
   "metadata": {},
   "outputs": [
    {
     "name": "stdout",
     "output_type": "stream",
     "text": [
      "Hello World\n",
      "Python !!!\n",
      "Hello World\n",
      "\n",
      "['Hello World\\n', 'Python !!!']\n"
     ]
    }
   ],
   "source": [
    "# form of string\n",
    "f = open('demo.txt', 'r')\n",
    "print(f.read())\n",
    "\n",
    "# line by line\n",
    "f = open('demo.txt', 'r')\n",
    "print(f.readline())\n",
    "\n",
    "# In form of List\n",
    "f = open('demo.txt', 'r')\n",
    "print(f.readlines())\n",
    "\n",
    "f.close()\n",
    "\n"
   ]
  },
  {
   "cell_type": "markdown",
   "metadata": {},
   "source": [
    "### 02) WAP to create file named \"new.txt\" only if it doesn't exist."
   ]
  },
  {
   "cell_type": "code",
   "execution_count": 29,
   "metadata": {},
   "outputs": [],
   "source": [
    "f = open('new1.txt', 'w')\n",
    "f.write('Hey Python !!')\n",
    "f.close()\n"
   ]
  },
  {
   "cell_type": "markdown",
   "metadata": {},
   "source": [
    "### 03) WAP to read first 5 lines from the text file."
   ]
  },
  {
   "cell_type": "code",
   "execution_count": 31,
   "metadata": {},
   "outputs": [
    {
     "name": "stdout",
     "output_type": "stream",
     "text": [
      "Hey Python !!\n",
      "\n",
      "hello\n",
      "\n",
      "world\n",
      "\n",
      "program\n",
      "\n",
      "!!!!\n",
      "\n"
     ]
    }
   ],
   "source": [
    "f = open('new.txt', 'r')\n",
    "for i in range(5):\n",
    "    print(f.readline())\n",
    "f.close()"
   ]
  },
  {
   "cell_type": "markdown",
   "metadata": {},
   "source": [
    "### 04) WAP to find the longest word(s) in a file"
   ]
  },
  {
   "cell_type": "code",
   "execution_count": 32,
   "metadata": {},
   "outputs": [
    {
     "name": "stdout",
     "output_type": "stream",
     "text": [
      "program\n"
     ]
    }
   ],
   "source": [
    "f = open('new.txt', 'r')\n",
    "words = f.read().split()\n",
    "print(max(words,key=len))"
   ]
  },
  {
   "cell_type": "markdown",
   "metadata": {},
   "source": [
    "### 05) WAP to count the no. of lines, words and characters in a given text file."
   ]
  },
  {
   "cell_type": "code",
   "execution_count": 46,
   "metadata": {},
   "outputs": [
    {
     "name": "stdout",
     "output_type": "stream",
     "text": [
      "5\n",
      "14\n",
      "39\n"
     ]
    }
   ],
   "source": [
    "# for lines\n",
    "f = open('new.txt', 'r')\n",
    "lines = f.readlines()\n",
    "print(len(lines))\n",
    "# for words\n",
    "f = open('new.txt', 'r')\n",
    "words = f.readline()\n",
    "print(len(words))\n",
    "# for character\n",
    "f = open('new.txt', 'r')\n",
    "character = f.read()\n",
    "print(len(character))"
   ]
  },
  {
   "cell_type": "markdown",
   "metadata": {},
   "source": [
    "### 06) WAP to copy the content of a file to the another file."
   ]
  },
  {
   "cell_type": "code",
   "execution_count": 51,
   "metadata": {},
   "outputs": [
    {
     "name": "stdout",
     "output_type": "stream",
     "text": [
      "Hey Python !!\n",
      "hello\n",
      "world\n",
      "program\n",
      "!!!!\n",
      "\n"
     ]
    }
   ],
   "source": [
    "f1 = open('new.txt', 'r')\n",
    "f2 = open('new1.txt', 'a')\n",
    "for i in f1:\n",
    "    f2.write(i)\n",
    "f2 = open('new1.txt', 'r')\n",
    "print(f2.read())\n"
   ]
  },
  {
   "cell_type": "markdown",
   "metadata": {},
   "source": [
    "### 07) WAP to find the size of the text file. "
   ]
  },
  {
   "cell_type": "code",
   "execution_count": 58,
   "metadata": {},
   "outputs": [
    {
     "name": "stdout",
     "output_type": "stream",
     "text": [
      "SIZE : 39 Byte\n"
     ]
    }
   ],
   "source": [
    "f = open('new.txt', 'r')\n",
    "size = len(f.read())\n",
    "print(f'SIZE : {size} Byte')"
   ]
  },
  {
   "cell_type": "markdown",
   "metadata": {},
   "source": [
    "### 08) WAP to create an UDF named frequency to count occurances of the specific word in a given text file."
   ]
  },
  {
   "cell_type": "code",
   "execution_count": 62,
   "metadata": {},
   "outputs": [
    {
     "name": "stdout",
     "output_type": "stream",
     "text": [
      "1\n"
     ]
    }
   ],
   "source": [
    "def frequency(file_content, word):\n",
    "    count = file_content.count(word)\n",
    "    return count\n",
    "\n",
    "f = open('new.txt', 'r')\n",
    "data = f.read()\n",
    "print(frequency(data.split(),'hello'))\n",
    "f.close()\n",
    "    \n",
    "    "
   ]
  },
  {
   "cell_type": "markdown",
   "metadata": {},
   "source": [
    "### 09) WAP to get the score of five subjects from the user, store them in a file. Fetch those marks and find the highest score."
   ]
  },
  {
   "cell_type": "code",
   "execution_count": 70,
   "metadata": {},
   "outputs": [
    {
     "name": "stdout",
     "output_type": "stream",
     "text": [
      "Mark of Subject 1 ::50\n",
      "Mark of Subject 2 ::60\n",
      "Mark of Subject 3 ::70\n",
      "Mark of Subject 4 ::80\n",
      "Mark of Subject 5 ::90\n",
      "90\n"
     ]
    }
   ],
   "source": [
    "fp = open('new.txt', 'w+')\n",
    "for i in range(1,6):\n",
    "    mark = input(f'Mark of Subject {i} ::')\n",
    "    fp.write(mark+'\\n')\n",
    "fp.seek(0)\n",
    "l1 = fp.read().split()\n",
    "print(max(l1))\n",
    "fp.close()"
   ]
  },
  {
   "cell_type": "markdown",
   "metadata": {},
   "source": [
    "### 10) WAP to write first 100 prime numbers to a file named primenumbers.txt \n",
    "(Note: each number should be in new line)"
   ]
  },
  {
   "cell_type": "code",
   "execution_count": 4,
   "metadata": {},
   "outputs": [
    {
     "name": "stdout",
     "output_type": "stream",
     "text": [
      "Added first 100 prime numbers to \"primenumbers.text\".\n"
     ]
    }
   ],
   "source": [
    "def is_prime(n):\n",
    "    if n <= 1:\n",
    "        return False\n",
    "    for i in range(2, int(n ** 0.5) + 1):\n",
    "        if n % i == 0:\n",
    "            return False\n",
    "    return True\n",
    "\n",
    "def write_prime_numbers_to_file():\n",
    "    primes = []\n",
    "    num = 2\n",
    "    while len(primes) < 100:\n",
    "        if is_prime(num):\n",
    "            primes.append(num)\n",
    "        num += 1\n",
    "\n",
    "    with open('./primenumbers.txt', 'w') as fp:\n",
    "        for prime in primes:\n",
    "            fp.write(f\"{prime}\\n\")\n",
    "    print('Added first 100 prime numbers to \"primenumbers.text\".')\n",
    "\n",
    "write_prime_numbers_to_file()"
   ]
  },
  {
   "cell_type": "markdown",
   "metadata": {},
   "source": [
    "### 11) WAP to merge two files and write it in a new file."
   ]
  },
  {
   "cell_type": "code",
   "execution_count": 3,
   "metadata": {},
   "outputs": [
    {
     "name": "stdout",
     "output_type": "stream",
     "text": [
      "Contents of ./new.txt and ./new1.txt have been merged into ./merged_file.txt\n"
     ]
    }
   ],
   "source": [
    "def merge_files(file1, file2, merged_file):\n",
    "    f1 = open(file1, 'r')\n",
    "    f2 = open(file2, 'r')\n",
    "    output = open(merged_file, 'w')\n",
    "    \n",
    "    output.write(f1.read())\n",
    "    output.write(\"\\n\")\n",
    "    output.write(f2.read())\n",
    "    \n",
    "    f1.close()\n",
    "    f2.close()\n",
    "    output.close()\n",
    "\n",
    "    print(f\"Contents of {file1} and {file2} have been merged into {merged_file}\")\n",
    "\n",
    "file1 = './new.txt'\n",
    "file2 = './new1.txt'\n",
    "merged_file = './merged_file.txt'\n",
    "\n",
    "merge_files(file1, file2, merged_file)"
   ]
  },
  {
   "cell_type": "markdown",
   "metadata": {},
   "source": [
    "### 12) WAP to replace word1 by word2 of a text file. Write the updated data to new file."
   ]
  },
  {
   "cell_type": "code",
   "execution_count": null,
   "metadata": {},
   "outputs": [],
   "source": [
    "def replace_word_in_file(input_file, output_file, word1, word2):\n",
    "    infile = open(input_file, 'r')\n",
    "    content = infile.read()\n",
    "    infile.close()\n",
    "\n",
    "    updated_content = content.replace(word1, word2)\n",
    "\n",
    "    outfile = open(output_file, 'w')\n",
    "    outfile.write(updated_content)\n",
    "    outfile.close()\n",
    "\n",
    "    print(f\"Replaced '{word1}' with '{word2}' and saved to {output_file}\")\n",
    "\n",
    "input_file = './Lab 9 Files/input.txt'\n",
    "output_file = './Lab 9 Files/output.txt'\n",
    "word1 = 'oldword'\n",
    "word2 = 'newword'\n",
    "\n",
    "replace_word_in_file(input_file, output_file, word1, word2)"
   ]
  },
  {
   "cell_type": "markdown",
   "metadata": {},
   "source": [
    "### 13) Demonstrate tell() and seek() for all the cases(seek from beginning-end-current position) taking a suitable example of your choice."
   ]
  },
  {
   "cell_type": "code",
   "execution_count": 2,
   "metadata": {},
   "outputs": [
    {
     "name": "stdout",
     "output_type": "stream",
     "text": [
      "Case 1: Current position from beginning (before reading): 0\n",
      "Reading first 5 characters:\n",
      "Hello\n",
      "Position after reading 5 characters: 5\n",
      "\n",
      "Case 2: Seek from the beginning to position 0: 0\n"
     ]
    }
   ],
   "source": [
    "with open('./demo.txt', 'w') as fp:\n",
    "    fp.write(\"Hello, this is a sample file for demonstrating tell() and seek().\")\n",
    "\n",
    "with open('./demo.txt', 'r') as fp:\n",
    "    # Case 1: Tell the current position from the beginning\n",
    "    print(\"Case 1: Current position from beginning (before reading):\", fp.tell())\n",
    "    print(\"Reading first 5 characters:\")\n",
    "    print(fp.read(5))  # Read first 5 characters\n",
    "    print(\"Position after reading 5 characters:\", fp.tell())\n",
    "    \n",
    "    # Case 2: Seek from the beginning (SEEK_SET)\n",
    "    fp.seek(0, 0)  # Move the pointer to the beginning\n",
    "    print(\"\\nCase 2: Seek from the beginning to position 0:\", fp.tell())"
   ]
  },
  {
   "cell_type": "code",
   "execution_count": null,
   "metadata": {},
   "outputs": [],
   "source": []
  }
 ],
 "metadata": {
  "kernelspec": {
   "display_name": "Python 3 (ipykernel)",
   "language": "python",
   "name": "python3"
  },
  "language_info": {
   "codemirror_mode": {
    "name": "ipython",
    "version": 3
   },
   "file_extension": ".py",
   "mimetype": "text/x-python",
   "name": "python",
   "nbconvert_exporter": "python",
   "pygments_lexer": "ipython3",
   "version": "3.10.9"
  }
 },
 "nbformat": 4,
 "nbformat_minor": 4
}
