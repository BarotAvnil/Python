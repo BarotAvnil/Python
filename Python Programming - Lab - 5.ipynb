{
 "cells": [
  {
   "cell_type": "markdown",
   "metadata": {},
   "source": [
    "\n",
    "<a href='https://www.darshan.ac.in/'> <img src='https://www.darshan.ac.in/Content/media/DU_Logo.svg' width=\"250\" height=\"300\"/></a>\n",
    "<pre>\n",
    "<center><b><h1>Python Programming - 2301CS404</b></center>\n",
    "<center><b><h1>Lab - 5</b></center>    \n",
"<center><b><h1>Barot Avnil | 23010101015</b></center> \n",
    "<pre>"
   ]
  },
  {
   "cell_type": "markdown",
   "metadata": {},
   "source": [
    "# List"
   ]
  },
  {
   "cell_type": "markdown",
   "metadata": {},
   "source": [
    "### 01) WAP to find sum of all the elements in a List."
   ]
  },
  {
   "cell_type": "code",
   "execution_count": 1,
   "metadata": {},
   "outputs": [
    {
     "name": "stdout",
     "output_type": "stream",
     "text": [
      "10\n"
     ]
    }
   ],
   "source": [
    "l1 = [1,2,3,4]\n",
    "print(sum(l1))"
   ]
  },
  {
   "cell_type": "markdown",
   "metadata": {},
   "source": [
    "### 02) WAP to find largest element in a List."
   ]
  },
  {
   "cell_type": "code",
   "execution_count": 2,
   "metadata": {},
   "outputs": [
    {
     "name": "stdout",
     "output_type": "stream",
     "text": [
      "4\n"
     ]
    }
   ],
   "source": [
    "l1 = [1,2,3,4]\n",
    "print(max(l1))"
   ]
  },
  {
   "cell_type": "markdown",
   "metadata": {},
   "source": [
    "### 03) WAP to find the length of a List."
   ]
  },
  {
   "cell_type": "code",
   "execution_count": 3,
   "metadata": {},
   "outputs": [
    {
     "name": "stdout",
     "output_type": "stream",
     "text": [
      "4\n"
     ]
    }
   ],
   "source": [
    "l1 = [1,2,3,4]\n",
    "print(len(l1))"
   ]
  },
  {
   "cell_type": "markdown",
   "metadata": {},
   "source": [
    "### 04) WAP to interchange first and last elements in a list."
   ]
  },
  {
   "cell_type": "code",
   "execution_count": 4,
   "metadata": {},
   "outputs": [
    {
     "name": "stdout",
     "output_type": "stream",
     "text": [
      "[4, 2, 3, 1]\n"
     ]
    }
   ],
   "source": [
    "l1 = [1,2,3,4]\n",
    "l1[0], l1[-1] = l1[-1], l1[0]\n",
    "print(l1)"
   ]
  },
  {
   "cell_type": "markdown",
   "metadata": {},
   "source": [
    "### 05) WAP to split the List into two parts and append the first part to the end."
   ]
  },
  {
   "cell_type": "code",
   "execution_count": 9,
   "metadata": {},
   "outputs": [
    {
     "name": "stdout",
     "output_type": "stream",
     "text": [
      "[3, 4, 1, 2]\n"
     ]
    }
   ],
   "source": [
    "l = [1,2,3,4]\n",
    "l1 = l[:len(l)//2]\n",
    "l2 = l[len(l)//2:]\n",
    "print(l2+l1)"
   ]
  },
  {
   "cell_type": "markdown",
   "metadata": {},
   "source": [
    "### 06) WAP to interchange the elements on two positions entered by a user."
   ]
  },
  {
   "cell_type": "code",
   "execution_count": 14,
   "metadata": {},
   "outputs": [
    {
     "name": "stdout",
     "output_type": "stream",
     "text": [
      "Enter the size of list. 4\n",
      "Element1: 1\n",
      "Element2: 2\n",
      "Element3: 3\n",
      "Element4: 4\n",
      "[1, 2, 3, 4]\n",
      "Enter 1st position.1\n",
      "Enter 2nd position.4\n",
      "[4, 2, 3, 1]\n"
     ]
    }
   ],
   "source": [
    "size = int(input('Enter the size of list. '))\n",
    "l1 = []\n",
    "for i in range(size):\n",
    "    l = int(input(f'Element {i+1}: '))\n",
    "    l1.append(l)\n",
    "print(l1)\n",
    "n = int(input(\"Enter 1st position.\"))\n",
    "m = int(input(\"Enter 2nd position.\"))\n",
    "l1[n-1], l1[m-1] = l1[m-1], l1[n-1]\n",
    "print(l1)"
   ]
  },
  {
   "cell_type": "markdown",
   "metadata": {},
   "source": [
    "### 07) WAP to reverse the list entered by user."
   ]
  },
  {
   "cell_type": "code",
   "execution_count": 16,
   "metadata": {},
   "outputs": [
    {
     "name": "stdout",
     "output_type": "stream",
     "text": [
      "Enter the size of list. 4\n",
      "Element 1: 1\n",
      "Element 2: 2\n",
      "Element 3: 3\n",
      "Element 4: 4\n",
      "Entered List :: [1, 2, 3, 4]\n",
      "Reversed List :: [4, 3, 2, 1]\n"
     ]
    }
   ],
   "source": [
    "size = int(input('Enter the size of list. '))\n",
    "l1 = []\n",
    "for i in range(size):\n",
    "    l = int(input(f'Element {i+1}: '))\n",
    "    l1.append(l)\n",
    "print(f'Entered List :: {l1}')\n",
    "\n",
    "l2 = l1[::-1]\n",
    "print(f\"Reversed List :: {l2}\")\n"
   ]
  },
  {
   "cell_type": "markdown",
   "metadata": {},
   "source": [
    "### 08) WAP to print even numbers in a list."
   ]
  },
  {
   "cell_type": "code",
   "execution_count": 17,
   "metadata": {},
   "outputs": [
    {
     "name": "stdout",
     "output_type": "stream",
     "text": [
      "Enter the size of list. 4\n",
      "Element 1: 1\n",
      "Element 2: 2\n",
      "Element 3: 3\n",
      "Element 4: 4\n",
      "Entered List :: [1, 2, 3, 4]\n",
      "[2, 4]\n"
     ]
    }
   ],
   "source": [
    "size = int(input('Enter the size of list. '))\n",
    "l1 = []\n",
    "for i in range(size):\n",
    "    l = int(input(f'Element {i+1}: '))\n",
    "    l1.append(l)\n",
    "print(f'Entered List :: {l1}')\n",
    "\n",
    "l2 = [i for i in l1 if(i%2==0)]\n",
    "print(f'Even Numbers :: {l2}')"
   ]
  },
  {
   "cell_type": "markdown",
   "metadata": {},
   "source": [
    "### 09) WAP to count unique items in a list."
   ]
  },
  {
   "cell_type": "code",
   "execution_count": 23,
   "metadata": {},
   "outputs": [
    {
     "name": "stdout",
     "output_type": "stream",
     "text": [
      "Enter the size of list. 4\n",
      "Element 1: 1\n",
      "Element 2: 2\n",
      "Element 3: 2\n",
      "Element 4: 3\n",
      "Entered List :: [1, 2, 2, 3]\n",
      "3\n"
     ]
    }
   ],
   "source": [
    "size = int(input('Enter the size of list. '))\n",
    "l1 = []\n",
    "for i in range(size):\n",
    "    l = int(input(f'Element {i+1}: '))\n",
    "    l1.append(l)\n",
    "print(f'Entered List :: {l1}')\n",
    "s1 = set(l1)\n",
    "s1 = s1.intersection(s1)\n",
    "count = 0\n",
    "for i in s1:\n",
    "    count+=1\n",
    "print(f'Count of Unique Item in a List :: {count}')"
   ]
  },
  {
   "cell_type": "markdown",
   "metadata": {},
   "source": [
    "### 10) WAP to copy a list."
   ]
  },
  {
   "cell_type": "code",
   "execution_count": 24,
   "metadata": {},
   "outputs": [
    {
     "name": "stdout",
     "output_type": "stream",
     "text": [
      "Enter the size of list. 4\n",
      "Element 1: 1\n",
      "Element 2: 2\n",
      "Element 3: 3\n",
      "Element 4: 4\n",
      "Entered List :: [1, 2, 3, 4]\n",
      "Copy List :: [1, 2, 3, 4]\n"
     ]
    }
   ],
   "source": [
    "size = int(input('Enter the size of list. '))\n",
    "l1 = []\n",
    "for i in range(size):\n",
    "    l = int(input(f'Element {i+1}: '))\n",
    "    l1.append(l)\n",
    "print(f'Entered List :: {l1}')\n",
    "l2 = l1.copy()\n",
    "\n",
    "print(f'Copy List :: {l2}')"
   ]
  },
  {
   "cell_type": "markdown",
   "metadata": {},
   "source": [
    "### 11) WAP to print all odd numbers in a given range."
   ]
  },
  {
   "cell_type": "code",
   "execution_count": 35,
   "metadata": {},
   "outputs": [
    {
     "name": "stdout",
     "output_type": "stream",
     "text": [
      "Enter Starting Number : 4\n",
      "Enter Ending Number : 6\n",
      "Odd Numbers :: [5]\n"
     ]
    }
   ],
   "source": [
    "x = int(input('Enter Starting Number : '))\n",
    "y = int(input('Enter Ending Number : '))\n",
    "l1 = []\n",
    "for i in range(x,y):\n",
    "    if(i%2!=0):\n",
    "        l1.append(i)\n",
    "print(f'Odd Numbers :: {l1}')"
   ]
  },
  {
   "cell_type": "markdown",
   "metadata": {},
   "source": [
    "### 12) WAP to count occurrences of an element in a list."
   ]
  },
  {
   "cell_type": "code",
   "execution_count": 26,
   "metadata": {},
   "outputs": [
    {
     "name": "stdout",
     "output_type": "stream",
     "text": [
      "Enter the size of list. 4\n",
      "Element 1: 1\n",
      "Element 2: 2\n",
      "Element 3: 2\n",
      "Element 4: 3\n",
      "Entered List :: [1, 2, 2, 3]\n",
      "Enter the number to count : 2\n",
      "Count of the 2 is 2\n"
     ]
    }
   ],
   "source": [
    "size = int(input('Enter the size of list : '))\n",
    "l1 = []\n",
    "for i in range(size):\n",
    "    l = int(input(f'Element {i+1}: '))\n",
    "    l1.append(l)\n",
    "print(f'Entered List :: {l1}')\n",
    "n = int(input('Enter the number to count : '))\n",
    "print(f'Count of the {n} :: {l1.count(n)}')"
   ]
  },
  {
   "cell_type": "markdown",
   "metadata": {},
   "source": [
    "### 13) WAP to find second largest number in a list."
   ]
  },
  {
   "cell_type": "code",
   "execution_count": 31,
   "metadata": {},
   "outputs": [
    {
     "name": "stdout",
     "output_type": "stream",
     "text": [
      "Enter the size of list. 4\n",
      "Element 1: 4\n",
      "Element 2: 3\n",
      "Element 3: 2\n",
      "Element 4: 1\n",
      "Entered List :: [4, 3, 2, 1]\n",
      "Second Largest element of List :: 3\n"
     ]
    }
   ],
   "source": [
    "size = int(input('Enter the size of list. '))\n",
    "l1 = []\n",
    "for i in range(size):\n",
    "    l = int(input(f'Element {i+1}: '))\n",
    "    l1.append(l)\n",
    "print(f'Entered List :: {l1}')\n",
    "l1.sort()\n",
    "print('Second Largest element of List ::', l1[len(l1)-2])"
   ]
  },
  {
   "cell_type": "markdown",
   "metadata": {},
   "source": [
    "### 14) WAP to extract elements with frequency greater than K."
   ]
  },
  {
   "cell_type": "code",
   "execution_count": null,
   "metadata": {},
   "outputs": [],
   "source": [
    "list = []\n",
    "flag = True\n",
    "while flag == True:\n",
    "    element = input('Enter a element for list (Enter \"f\" to terminate): ')\n",
    "    if element == 'f':\n",
    "        break\n",
    "    else:\n",
    "        element = int(element)\n",
    "    list.append(element)\n",
    "\n",
    "k = int(input('Enter the frequency: '))\n",
    "\n",
    "frequencyDict = {}\n",
    "for i in list:\n",
    "    if i in frequencyDict:\n",
    "        frequencyDict[i] += 1\n",
    "    else:\n",
    "        frequencyDict[i] = 1\n",
    "            \n",
    "result = [key for key, value in frequencyDict.items() if value > k]\n",
    "print(f'The element that occured more than {k} times are: {result}')"
   ]
  },
  {
   "cell_type": "markdown",
   "metadata": {},
   "source": [
    "### 15) WAP to create a list of squared numbers from 0 to 9 with and without using List Comprehension."
   ]
  },
  {
   "cell_type": "code",
   "execution_count": null,
   "metadata": {},
   "outputs": [],
   "source": [
    "l1 = []\n",
    "for i in range(10):\n",
    "    a = int(input(f'Element{i+1}: '))\n",
    "    l1.append(a)\n",
    "print(l1)\n",
    "l2 = []"
   ]
  },
  {
   "cell_type": "markdown",
   "metadata": {},
   "source": [
    "### 16) WAP to create a new list (fruit whose name starts with 'b') from the list of fruits given by user."
   ]
  },
  {
   "cell_type": "code",
   "execution_count": 41,
   "metadata": {},
   "outputs": [
    {
     "name": "stdout",
     "output_type": "stream",
     "text": [
      "Enter a Size of List : 2\n",
      "Element1: apple \n",
      "Element2: banana\n",
      "['apple ', 'banana']\n",
      "['banana']\n"
     ]
    }
   ],
   "source": [
    "size = int(input('Enter a Size of List : '))\n",
    "l1 = []\n",
    "for i in range(size):\n",
    "    a = input(f'Element{i+1}: ')\n",
    "    l1.append(a)\n",
    "print(l1)\n",
    "f = [i for i in l1 if i.startswith('b')]\n",
    "print(f)"
   ]
  },
  {
   "cell_type": "markdown",
   "metadata": {},
   "source": [
    "### 17) WAP to create a list of common elements from given two lists."
   ]
  },
  {
   "cell_type": "code",
   "execution_count": 42,
   "metadata": {},
   "outputs": [
    {
     "name": "stdout",
     "output_type": "stream",
     "text": [
      "Enter a Size of List : 4\n",
      "Element1: 1\n",
      "Element2: 2\n",
      "Element3: 3\n",
      "Element4: 4\n",
      "[1, 2, 3, 4]\n",
      "Enter a Size of List : 4\n",
      "Element1: 2\n",
      "Element2: 3\n",
      "Element3: 0\n",
      "Element4: 6\n",
      "[2, 3, 0, 6]\n",
      "[2, 3]\n"
     ]
    }
   ],
   "source": [
    "size = int(input('Enter a Size of List : '))\n",
    "l1 = []\n",
    "for i in range (size):\n",
    "    a = int(input(f'Element{i+1}: '))\n",
    "    l1.append(a)\n",
    "print(l1)\n",
    "size2 = int(input('Enter a Size of List : '))\n",
    "l2 = []\n",
    "for i in range (size2):\n",
    "    b = int(input(f'Element{i+1}: '))\n",
    "    l2.append(b)\n",
    "print(l2)\n",
    "common = [i  for i in l1 if i in l2]\n",
    "print(common)"
   ]
  },
  {
   "cell_type": "code",
   "execution_count": null,
   "metadata": {},
   "outputs": [],
   "source": []
  }
 ],
 "metadata": {
  "kernelspec": {
   "display_name": "Python 3 (ipykernel)",
   "language": "python",
   "name": "python3"
  },
  "language_info": {
   "codemirror_mode": {
    "name": "ipython",
    "version": 3
   },
   "file_extension": ".py",
   "mimetype": "text/x-python",
   "name": "python",
   "nbconvert_exporter": "python",
   "pygments_lexer": "ipython3",
   "version": "3.10.9"
  }
 },
 "nbformat": 4,
 "nbformat_minor": 4
}
